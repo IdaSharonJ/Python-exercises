{
  "nbformat": 4,
  "nbformat_minor": 0,
  "metadata": {
    "colab": {
      "name": "24AUG-NumPy.ipynb",
      "provenance": [],
      "authorship_tag": "ABX9TyPqgYgBqZHZUd3tyrdNc0Hc",
      "include_colab_link": true
    },
    "kernelspec": {
      "name": "python3",
      "display_name": "Python 3"
    },
    "language_info": {
      "name": "python"
    }
  },
  "cells": [
    {
      "cell_type": "markdown",
      "metadata": {
        "id": "view-in-github",
        "colab_type": "text"
      },
      "source": [
        "<a href=\"https://colab.research.google.com/github/IdaSharonJ/Python-exercises/blob/main/24AUG_NumPy.ipynb\" target=\"_parent\"><img src=\"https://colab.research.google.com/assets/colab-badge.svg\" alt=\"Open In Colab\"/></a>"
      ]
    },
    {
      "cell_type": "markdown",
      "metadata": {
        "id": "fc6fNBs2f3uR"
      },
      "source": [
        "### Exercise 1\n",
        "\n",
        "* Generate a 1D numpy array with the values [7, 9, 65, 33, 85, 99]\n",
        "\n",
        "* Generate a matrix (2D numpy array) of the values:\n",
        "\n",
        "\\begin{align}\n",
        "  \\mathbf{A} =\n",
        "  \\begin{pmatrix}\n",
        "    1 & 2 & 4 \\\\\n",
        "    2 & 3 & 0 \\\\\n",
        "    0 & 5 & 1\n",
        "  \\end{pmatrix}\n",
        "\\end{align}\n",
        "\n",
        "* Change the dimensions of this array to another permitted shape"
      ]
    },
    {
      "cell_type": "code",
      "source": [
        "import numpy as np"
      ],
      "metadata": {
        "id": "CKodVBXziP2n"
      },
      "execution_count": 15,
      "outputs": []
    },
    {
      "cell_type": "code",
      "source": [
        "ar_one = [7,9,65,33,85,99]\n",
        "print(ar_one)"
      ],
      "metadata": {
        "colab": {
          "base_uri": "https://localhost:8080/"
        },
        "id": "ybCtWHzbg-HI",
        "outputId": "1316b6dd-7573-4694-fbf6-05b883e077ec"
      },
      "execution_count": 11,
      "outputs": [
        {
          "output_type": "stream",
          "name": "stdout",
          "text": [
            "[7, 9, 65, 33, 85, 99]\n"
          ]
        }
      ]
    },
    {
      "cell_type": "code",
      "execution_count": 12,
      "metadata": {
        "colab": {
          "base_uri": "https://localhost:8080/"
        },
        "id": "ArD3kzlRf3uC",
        "outputId": "3092c156-8ed4-4eaa-a284-40c6b1dfd60f"
      },
      "outputs": [
        {
          "output_type": "stream",
          "name": "stdout",
          "text": [
            "<class 'numpy.ndarray'>\n",
            "[ 7  9 65 33 85 99]\n"
          ]
        }
      ],
      "source": [
        "new = np.array(ar_one)\n",
        "print(type(new))\n",
        "print(new)"
      ]
    },
    {
      "cell_type": "code",
      "source": [
        "a = np.array([1,2,4,2,3,0,0,5,1,])\n",
        "new = a.reshape(3, 3)\n",
        "print(new)"
      ],
      "metadata": {
        "colab": {
          "base_uri": "https://localhost:8080/"
        },
        "id": "7g0AUAWvjnC4",
        "outputId": "9039cc9d-83dc-4c41-d071-4437fd65012c"
      },
      "execution_count": 18,
      "outputs": [
        {
          "output_type": "stream",
          "name": "stdout",
          "text": [
            "[[1 2 4]\n",
            " [2 3 0]\n",
            " [0 5 1]]\n"
          ]
        }
      ]
    },
    {
      "cell_type": "code",
      "source": [
        "newon = new.reshape(3, 1, 3)\n",
        "print(newon)"
      ],
      "metadata": {
        "colab": {
          "base_uri": "https://localhost:8080/"
        },
        "id": "LKwqeYQZkxMU",
        "outputId": "fb909ce0-bb00-4674-c805-9bf81c89ca05"
      },
      "execution_count": 19,
      "outputs": [
        {
          "output_type": "stream",
          "name": "stdout",
          "text": [
            "[[[1 2 4]]\n",
            "\n",
            " [[2 3 0]]\n",
            "\n",
            " [[0 5 1]]]\n"
          ]
        }
      ]
    },
    {
      "cell_type": "markdown",
      "metadata": {
        "id": "RTVKRrttf3uv"
      },
      "source": [
        "### Exercise 2\n",
        "\n",
        "* #### Create an array of string numbers, but use dtype to make it an array of floats.\n",
        "* #### Transpose the matrix, printing the new size and shape.\n",
        "* #### Use the .astype() method to convert the array to boolean."
      ]
    },
    {
      "cell_type": "code",
      "source": [
        "arr = np.array([['1','2','3'],['4','5','6']])\n",
        "arr.dtype"
      ],
      "metadata": {
        "colab": {
          "base_uri": "https://localhost:8080/"
        },
        "id": "2756UPdyofOV",
        "outputId": "2d8c1055-5eba-4a09-9fd0-ec70ef32f869"
      },
      "execution_count": 21,
      "outputs": [
        {
          "output_type": "execute_result",
          "data": {
            "text/plain": [
              "dtype('<U1')"
            ]
          },
          "metadata": {},
          "execution_count": 21
        }
      ]
    },
    {
      "cell_type": "code",
      "source": [
        "new_arr = arr.astype('float64')\n",
        "print(new_arr)"
      ],
      "metadata": {
        "colab": {
          "base_uri": "https://localhost:8080/"
        },
        "id": "Tc5T4EYao4WP",
        "outputId": "e4ca9030-aa43-40bb-addb-7cd9d5af2dac"
      },
      "execution_count": 22,
      "outputs": [
        {
          "output_type": "stream",
          "name": "stdout",
          "text": [
            "[[1. 2. 3.]\n",
            " [4. 5. 6.]]\n"
          ]
        }
      ]
    },
    {
      "cell_type": "code",
      "source": [
        "a.shape = (3,3)\n",
        "print(a, \"\\n\")\n",
        "print(a.T)"
      ],
      "metadata": {
        "colab": {
          "base_uri": "https://localhost:8080/"
        },
        "id": "GvTML3R-pERI",
        "outputId": "eb2c2d0f-d0a4-45d1-f5ff-c15f8925f111"
      },
      "execution_count": 24,
      "outputs": [
        {
          "output_type": "stream",
          "name": "stdout",
          "text": [
            "[[1 2 4]\n",
            " [2 3 0]\n",
            " [0 5 1]] \n",
            "\n",
            "[[1 2 0]\n",
            " [2 3 5]\n",
            " [4 0 1]]\n"
          ]
        }
      ]
    },
    {
      "cell_type": "code",
      "source": [
        "Booleanmat=np.array(a,dtype=bool)\n",
        "print(Booleanmat)"
      ],
      "metadata": {
        "colab": {
          "base_uri": "https://localhost:8080/"
        },
        "id": "noGvtq14ptLb",
        "outputId": "a34201eb-6020-4aea-d699-ba9a096140a1"
      },
      "execution_count": 26,
      "outputs": [
        {
          "output_type": "stream",
          "name": "stdout",
          "text": [
            "[[ True  True  True]\n",
            " [ True  True False]\n",
            " [False  True  True]]\n"
          ]
        }
      ]
    },
    {
      "cell_type": "markdown",
      "metadata": {
        "id": "BLsdDPqff3uz"
      },
      "source": [
        "### Exercise 3\n",
        "\n",
        "* Create a numpy array with 50 zeros\n",
        "* Create a np array of 2 repeated 20 times\n",
        "* Create a numpy array from 0 to 2 $\\pi$ in steps of 0.1\n",
        "\n",
        "For one of the arrays generated:\n",
        "* Get the first five values\n",
        "* Get the last 3 values\n",
        "* Get the 4th value to the 7th value"
      ]
    },
    {
      "cell_type": "code",
      "source": [
        "zeroarr=np.zeros(50)\n",
        "print(zeroarr)"
      ],
      "metadata": {
        "colab": {
          "base_uri": "https://localhost:8080/"
        },
        "id": "IyvO-RSdrD72",
        "outputId": "d70a2f22-b7ac-426f-9953-4953eb96fac6"
      },
      "execution_count": 28,
      "outputs": [
        {
          "output_type": "stream",
          "name": "stdout",
          "text": [
            "[0. 0. 0. 0. 0. 0. 0. 0. 0. 0. 0. 0. 0. 0. 0. 0. 0. 0. 0. 0. 0. 0. 0. 0.\n",
            " 0. 0. 0. 0. 0. 0. 0. 0. 0. 0. 0. 0. 0. 0. 0. 0. 0. 0. 0. 0. 0. 0. 0. 0.\n",
            " 0. 0.]\n"
          ]
        }
      ]
    },
    {
      "cell_type": "code",
      "source": [
        "zeroarr[0:5]"
      ],
      "metadata": {
        "colab": {
          "base_uri": "https://localhost:8080/"
        },
        "id": "13sC4Lsvr6LX",
        "outputId": "6ad06adb-daba-4b6c-eb3e-5c8b8770e450"
      },
      "execution_count": 29,
      "outputs": [
        {
          "output_type": "execute_result",
          "data": {
            "text/plain": [
              "array([0., 0., 0., 0., 0.])"
            ]
          },
          "metadata": {},
          "execution_count": 29
        }
      ]
    },
    {
      "cell_type": "code",
      "source": [
        "abc = np.repeat(2,20)\n",
        "print(abc)"
      ],
      "metadata": {
        "colab": {
          "base_uri": "https://localhost:8080/"
        },
        "id": "bBeXeyT4sOzM",
        "outputId": "302ee6eb-4211-440d-c691-efdea522a434"
      },
      "execution_count": 30,
      "outputs": [
        {
          "output_type": "stream",
          "name": "stdout",
          "text": [
            "[2 2 2 2 2 2 2 2 2 2 2 2 2 2 2 2 2 2 2 2]\n"
          ]
        }
      ]
    },
    {
      "cell_type": "code",
      "source": [
        "abc[-3:]"
      ],
      "metadata": {
        "colab": {
          "base_uri": "https://localhost:8080/"
        },
        "id": "d7_quT9_sY5A",
        "outputId": "8d1ef9e0-9058-45e6-d1a9-6bafbae5a36e"
      },
      "execution_count": 32,
      "outputs": [
        {
          "output_type": "execute_result",
          "data": {
            "text/plain": [
              "array([2, 2, 2])"
            ]
          },
          "metadata": {},
          "execution_count": 32
        }
      ]
    },
    {
      "cell_type": "code",
      "source": [
        "import math\n",
        "matharr = np.arange(0,2*(math.pi),0.1)\n",
        "matharr"
      ],
      "metadata": {
        "colab": {
          "base_uri": "https://localhost:8080/"
        },
        "id": "QR_nPzRksvUz",
        "outputId": "a8425212-9a40-496a-bde6-63e386c572a4"
      },
      "execution_count": 35,
      "outputs": [
        {
          "output_type": "execute_result",
          "data": {
            "text/plain": [
              "array([0. , 0.1, 0.2, 0.3, 0.4, 0.5, 0.6, 0.7, 0.8, 0.9, 1. , 1.1, 1.2,\n",
              "       1.3, 1.4, 1.5, 1.6, 1.7, 1.8, 1.9, 2. , 2.1, 2.2, 2.3, 2.4, 2.5,\n",
              "       2.6, 2.7, 2.8, 2.9, 3. , 3.1, 3.2, 3.3, 3.4, 3.5, 3.6, 3.7, 3.8,\n",
              "       3.9, 4. , 4.1, 4.2, 4.3, 4.4, 4.5, 4.6, 4.7, 4.8, 4.9, 5. , 5.1,\n",
              "       5.2, 5.3, 5.4, 5.5, 5.6, 5.7, 5.8, 5.9, 6. , 6.1, 6.2])"
            ]
          },
          "metadata": {},
          "execution_count": 35
        }
      ]
    },
    {
      "cell_type": "code",
      "source": [
        "matharr[4:8]"
      ],
      "metadata": {
        "colab": {
          "base_uri": "https://localhost:8080/"
        },
        "id": "0MQV4q9itCld",
        "outputId": "d9754370-5296-47ac-e2a2-3ea0c8ac1d25"
      },
      "execution_count": 37,
      "outputs": [
        {
          "output_type": "execute_result",
          "data": {
            "text/plain": [
              "array([0.4, 0.5, 0.6, 0.7])"
            ]
          },
          "metadata": {},
          "execution_count": 37
        }
      ]
    },
    {
      "cell_type": "markdown",
      "metadata": {
        "id": "BDBsCMWqf3u2"
      },
      "source": [
        "### Exercise 4\n",
        "Take one of the arrays you defined and\n",
        "* #### Reverse it\n",
        "* #### Only keep every 4th element.\n",
        "* #### Get every 2nd element, starting from the last and moving backwards."
      ]
    },
    {
      "cell_type": "code",
      "source": [
        "fivetable = np.arange(0, 55, 5)\n",
        "fivetable"
      ],
      "metadata": {
        "colab": {
          "base_uri": "https://localhost:8080/"
        },
        "id": "wKsU6BydtS4l",
        "outputId": "10783770-5aa4-4b08-8bb7-eb7e393a4bcd"
      },
      "execution_count": 41,
      "outputs": [
        {
          "output_type": "execute_result",
          "data": {
            "text/plain": [
              "array([ 0,  5, 10, 15, 20, 25, 30, 35, 40, 45, 50])"
            ]
          },
          "metadata": {},
          "execution_count": 41
        }
      ]
    },
    {
      "cell_type": "code",
      "source": [
        "revtable = np.flip(fivetable)\n",
        "revtable"
      ],
      "metadata": {
        "colab": {
          "base_uri": "https://localhost:8080/"
        },
        "id": "2qWnrHJxt4Su",
        "outputId": "92ac93e4-7c47-4abd-af08-542529e89cf6"
      },
      "execution_count": 42,
      "outputs": [
        {
          "output_type": "execute_result",
          "data": {
            "text/plain": [
              "array([50, 45, 40, 35, 30, 25, 20, 15, 10,  5,  0])"
            ]
          },
          "metadata": {},
          "execution_count": 42
        }
      ]
    },
    {
      "cell_type": "code",
      "source": [
        "revtable[0::4]"
      ],
      "metadata": {
        "colab": {
          "base_uri": "https://localhost:8080/"
        },
        "id": "H2DV1jluuRH8",
        "outputId": "ee85a777-6043-43e6-c5e4-cbd5efe12f08"
      },
      "execution_count": 44,
      "outputs": [
        {
          "output_type": "execute_result",
          "data": {
            "text/plain": [
              "array([50, 30, 10])"
            ]
          },
          "metadata": {},
          "execution_count": 44
        }
      ]
    },
    {
      "cell_type": "code",
      "source": [
        "revtable[::-2]"
      ],
      "metadata": {
        "colab": {
          "base_uri": "https://localhost:8080/"
        },
        "id": "2XJBZ6U2uh3M",
        "outputId": "50569326-c8cb-4431-bc9f-172e948b8c87"
      },
      "execution_count": 45,
      "outputs": [
        {
          "output_type": "execute_result",
          "data": {
            "text/plain": [
              "array([ 0, 10, 20, 30, 40, 50])"
            ]
          },
          "metadata": {},
          "execution_count": 45
        }
      ]
    },
    {
      "cell_type": "markdown",
      "metadata": {
        "id": "3kV0k9axf3u7"
      },
      "source": [
        "### Exercise 5\n",
        "\n",
        "* Compute min, max, sum, mean, median, variance, and standard deviation of the above array, all to to 2 decimal places."
      ]
    },
    {
      "cell_type": "code",
      "source": [
        "nums = np.arange(0, 4, 0.2555)\n",
        "nums"
      ],
      "metadata": {
        "colab": {
          "base_uri": "https://localhost:8080/"
        },
        "id": "ZQE7Z_uFu77Z",
        "outputId": "f153c316-dc0e-4929-9338-a99dbfe2ead1"
      },
      "execution_count": 46,
      "outputs": [
        {
          "output_type": "execute_result",
          "data": {
            "text/plain": [
              "array([0.    , 0.2555, 0.511 , 0.7665, 1.022 , 1.2775, 1.533 , 1.7885,\n",
              "       2.044 , 2.2995, 2.555 , 2.8105, 3.066 , 3.3215, 3.577 , 3.8325])"
            ]
          },
          "metadata": {},
          "execution_count": 46
        }
      ]
    },
    {
      "cell_type": "code",
      "source": [
        "print(\"min = \", np.min(nums).round(2))\n",
        "print(\"max = \", np.max(nums).round(2))\n",
        "print(\"sum = \", np.sum(nums).round(2))\n",
        "print(\"mean = \", np.mean(nums).round(2))\n",
        "print(\"median = \", np.median(nums).round(2))\n",
        "print(\"var = \", np.var(nums).round(2))\n",
        "print(\"std = \", np.std(nums).round(2))"
      ],
      "metadata": {
        "colab": {
          "base_uri": "https://localhost:8080/"
        },
        "id": "ieb40DsEvCSm",
        "outputId": "e16c4a5c-e460-4c05-a3cd-54d7d2cce220"
      },
      "execution_count": 47,
      "outputs": [
        {
          "output_type": "stream",
          "name": "stdout",
          "text": [
            "min =  0.0\n",
            "max =  3.83\n",
            "sum =  30.66\n",
            "mean =  1.92\n",
            "median =  1.92\n",
            "var =  1.39\n",
            "std =  1.18\n"
          ]
        }
      ]
    },
    {
      "cell_type": "markdown",
      "metadata": {
        "id": "BQQ5QKBpf3vv"
      },
      "source": [
        "### Exercise 6\n",
        "* Simulate a six-sided dice using numpy.random.choice(), generate a list of values you would obtain from 10 throws.\n",
        "* Simulate a two-sided coin toss that is NOT fair: it is twice as likely to have head than tails.\n"
      ]
    },
    {
      "cell_type": "code",
      "source": [
        "toss = np.random.choice(list(range(1,7)),10)\n",
        "toss"
      ],
      "metadata": {
        "colab": {
          "base_uri": "https://localhost:8080/"
        },
        "id": "66x2c9NTvW17",
        "outputId": "c476be1a-8040-4e3c-9594-c765d7bf0aed"
      },
      "execution_count": 48,
      "outputs": [
        {
          "output_type": "execute_result",
          "data": {
            "text/plain": [
              "array([3, 4, 2, 2, 3, 1, 4, 5, 3, 5])"
            ]
          },
          "metadata": {},
          "execution_count": 48
        }
      ]
    },
    {
      "cell_type": "code",
      "execution_count": 49,
      "metadata": {
        "id": "OSbPqKtLf3vv",
        "colab": {
          "base_uri": "https://localhost:8080/"
        },
        "outputId": "6b207db1-0de7-461c-9482-1b93a548ce9a"
      },
      "outputs": [
        {
          "output_type": "execute_result",
          "data": {
            "text/plain": [
              "array([1, 1, 0, 1, 0, 1, 1, 1, 1, 0])"
            ]
          },
          "metadata": {},
          "execution_count": 49
        }
      ],
      "source": [
        "coinflip = np.random.choice([0,1,1],10)\n",
        "coinflip"
      ]
    }
  ]
}