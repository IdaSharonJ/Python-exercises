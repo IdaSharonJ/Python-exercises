{
  "nbformat": 4,
  "nbformat_minor": 0,
  "metadata": {
    "colab": {
      "provenance": [],
      "authorship_tag": "ABX9TyMQu8zuot/VvyhFZXFCPHx1",
      "include_colab_link": true
    },
    "kernelspec": {
      "name": "python3",
      "display_name": "Python 3"
    },
    "language_info": {
      "name": "python"
    }
  },
  "cells": [
    {
      "cell_type": "markdown",
      "metadata": {
        "id": "view-in-github",
        "colab_type": "text"
      },
      "source": [
        "<a href=\"https://colab.research.google.com/github/IdaSharonJ/Python-exercises/blob/main/Inheritance.ipynb\" target=\"_parent\"><img src=\"https://colab.research.google.com/assets/colab-badge.svg\" alt=\"Open In Colab\"/></a>"
      ]
    },
    {
      "cell_type": "code",
      "execution_count": 2,
      "metadata": {
        "id": "_74AlvoceRW7"
      },
      "outputs": [],
      "source": [
        "#parent_class\n",
        "class person:\n",
        "    def __init__(self,name,Id):\n",
        "        self.name = name\n",
        "        self.Id= Id\n",
        "        \n",
        "    def display(self):\n",
        "        print(self.name)\n",
        "        print(self.Id)"
      ]
    },
    {
      "cell_type": "code",
      "source": [
        "#child class 1\n",
        "class Student( person ):            \n",
        "        def __init__(self, name, Id, attendance): \n",
        "                self.attendance = attendance \n",
        "    \n",
        "                \n",
        "                person.__init__(self, name, Id)  \n",
        "          \n",
        "        def show(self):\n",
        "            print(self.attendance)"
      ],
      "metadata": {
        "id": "6NCqqrxOkKlO"
      },
      "execution_count": 3,
      "outputs": []
    },
    {
      "cell_type": "code",
      "source": [
        "a = Student('Mamtha', 948947, 94)     \n",
        "    \n",
        "\n",
        "a.display()\n",
        "a.show() "
      ],
      "metadata": {
        "colab": {
          "base_uri": "https://localhost:8080/"
        },
        "id": "QIBmM50_keKE",
        "outputId": "4eae9382-aad8-4a2c-a0ce-3405c4bb1f0a"
      },
      "execution_count": 4,
      "outputs": [
        {
          "output_type": "stream",
          "name": "stdout",
          "text": [
            "Mamtha\n",
            "948947\n",
            "94\n"
          ]
        }
      ]
    },
    {
      "cell_type": "code",
      "source": [
        "#child class 2\n",
        "class Marksheet( person ):            \n",
        "        def __init__(self, name, Id, maths, science, social): \n",
        "                self.maths = maths\n",
        "                self.science = science\n",
        "                self.social = social\n",
        "    \n",
        "                \n",
        "                person.__init__(self, name, Id)  \n",
        "          \n",
        "        def show(self):\n",
        "            print(self.maths)\n",
        "            print(self.science)\n",
        "            print(self.social)"
      ],
      "metadata": {
        "id": "CevJDbd2kogB"
      },
      "execution_count": 5,
      "outputs": []
    },
    {
      "cell_type": "code",
      "source": [
        "a = Marksheet('Gomathy', 948946, 40, 38, 47)     \n",
        "    \n",
        "\n",
        "a.display()\n",
        "a.show() "
      ],
      "metadata": {
        "colab": {
          "base_uri": "https://localhost:8080/"
        },
        "id": "D1NyyUsfleiW",
        "outputId": "2fff69ee-9cf0-4f13-fae5-c788ca48941d"
      },
      "execution_count": 6,
      "outputs": [
        {
          "output_type": "stream",
          "name": "stdout",
          "text": [
            "Gomathy\n",
            "948946\n",
            "40\n",
            "38\n",
            "47\n"
          ]
        }
      ]
    },
    {
      "cell_type": "code",
      "source": [
        "#child class 3\n",
        "\n",
        "class Employee(person):\n",
        "  def __init__(self,name, Id, salary):\n",
        "    self.salary = salary\n",
        "    \n",
        "    person.__init__(self, name, Id)  \n",
        "  \n",
        "  def show(self):\n",
        "    print(self.salary)"
      ],
      "metadata": {
        "id": "sqpiedfRlzwA"
      },
      "execution_count": 12,
      "outputs": []
    },
    {
      "cell_type": "code",
      "source": [
        "i = Employee(\"Jyothika\", 28937, 100000)\n",
        "\n",
        "i.display()\n",
        "i.show()"
      ],
      "metadata": {
        "colab": {
          "base_uri": "https://localhost:8080/"
        },
        "id": "YIGBkCjTmLsi",
        "outputId": "0bbae36f-2f0f-43ec-a529-61d4691d096e"
      },
      "execution_count": 13,
      "outputs": [
        {
          "output_type": "stream",
          "name": "stdout",
          "text": [
            "Jyothika\n",
            "28937\n",
            "100000\n"
          ]
        }
      ]
    }
  ]
}